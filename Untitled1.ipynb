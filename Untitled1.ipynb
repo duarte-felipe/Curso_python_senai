{
  "nbformat": 4,
  "nbformat_minor": 0,
  "metadata": {
    "colab": {
      "provenance": [],
      "toc_visible": true,
      "authorship_tag": "ABX9TyMH7C+b8Fc021KL6g9cBTEr",
      "include_colab_link": true
    },
    "kernelspec": {
      "name": "python3",
      "display_name": "Python 3"
    },
    "language_info": {
      "name": "python"
    }
  },
  "cells": [
    {
      "cell_type": "markdown",
      "metadata": {
        "id": "view-in-github",
        "colab_type": "text"
      },
      "source": [
        "<a href=\"https://colab.research.google.com/github/duarte-felipe/Curso_python_senai/blob/main/Untitled1.ipynb\" target=\"_parent\"><img src=\"https://colab.research.google.com/assets/colab-badge.svg\" alt=\"Open In Colab\"/></a>"
      ]
    },
    {
      "cell_type": "code",
      "execution_count": 1,
      "metadata": {
        "colab": {
          "base_uri": "https://localhost:8080/"
        },
        "id": "hCo_jvdvqf6a",
        "outputId": "7b2b062b-cab7-4b0b-b9a2-df28e96b524f"
      },
      "outputs": [
        {
          "output_type": "stream",
          "name": "stdout",
          "text": [
            "Requirement already satisfied: nltk in /usr/local/lib/python3.11/dist-packages (3.9.1)\n",
            "Requirement already satisfied: textblob in /usr/local/lib/python3.11/dist-packages (0.19.0)\n",
            "Requirement already satisfied: pandas in /usr/local/lib/python3.11/dist-packages (2.2.2)\n",
            "Requirement already satisfied: matplotlib in /usr/local/lib/python3.11/dist-packages (3.10.0)\n",
            "Requirement already satisfied: click in /usr/local/lib/python3.11/dist-packages (from nltk) (8.2.0)\n",
            "Requirement already satisfied: joblib in /usr/local/lib/python3.11/dist-packages (from nltk) (1.5.0)\n",
            "Requirement already satisfied: regex>=2021.8.3 in /usr/local/lib/python3.11/dist-packages (from nltk) (2024.11.6)\n",
            "Requirement already satisfied: tqdm in /usr/local/lib/python3.11/dist-packages (from nltk) (4.67.1)\n",
            "Requirement already satisfied: numpy>=1.23.2 in /usr/local/lib/python3.11/dist-packages (from pandas) (2.0.2)\n",
            "Requirement already satisfied: python-dateutil>=2.8.2 in /usr/local/lib/python3.11/dist-packages (from pandas) (2.9.0.post0)\n",
            "Requirement already satisfied: pytz>=2020.1 in /usr/local/lib/python3.11/dist-packages (from pandas) (2025.2)\n",
            "Requirement already satisfied: tzdata>=2022.7 in /usr/local/lib/python3.11/dist-packages (from pandas) (2025.2)\n",
            "Requirement already satisfied: contourpy>=1.0.1 in /usr/local/lib/python3.11/dist-packages (from matplotlib) (1.3.2)\n",
            "Requirement already satisfied: cycler>=0.10 in /usr/local/lib/python3.11/dist-packages (from matplotlib) (0.12.1)\n",
            "Requirement already satisfied: fonttools>=4.22.0 in /usr/local/lib/python3.11/dist-packages (from matplotlib) (4.58.0)\n",
            "Requirement already satisfied: kiwisolver>=1.3.1 in /usr/local/lib/python3.11/dist-packages (from matplotlib) (1.4.8)\n",
            "Requirement already satisfied: packaging>=20.0 in /usr/local/lib/python3.11/dist-packages (from matplotlib) (24.2)\n",
            "Requirement already satisfied: pillow>=8 in /usr/local/lib/python3.11/dist-packages (from matplotlib) (11.2.1)\n",
            "Requirement already satisfied: pyparsing>=2.3.1 in /usr/local/lib/python3.11/dist-packages (from matplotlib) (3.2.3)\n",
            "Requirement already satisfied: six>=1.5 in /usr/local/lib/python3.11/dist-packages (from python-dateutil>=2.8.2->pandas) (1.17.0)\n"
          ]
        }
      ],
      "source": [
        "!pip install nltk textblob pandas matplotlib"
      ]
    },
    {
      "cell_type": "code",
      "source": [
        "import pandas as pd\n",
        "import matplotlib.pyplot as plt\n",
        "import nltk\n",
        "from textblob import TextBlob\n",
        "import nltk\n",
        "from nltk.sentiment import SentimentIntensityAnalyzer\n",
        "#baixar recursos\n",
        "nltk.download('vader_lexicon')\n"
      ],
      "metadata": {
        "colab": {
          "base_uri": "https://localhost:8080/"
        },
        "id": "I1BTyKMDrqDm",
        "outputId": "d631cccb-25fc-4901-f9e4-299f8e3c14d9"
      },
      "execution_count": 2,
      "outputs": [
        {
          "output_type": "stream",
          "name": "stderr",
          "text": [
            "[nltk_data] Downloading package vader_lexicon to /root/nltk_data...\n"
          ]
        },
        {
          "output_type": "execute_result",
          "data": {
            "text/plain": [
              "True"
            ]
          },
          "metadata": {},
          "execution_count": 2
        }
      ]
    },
    {
      "cell_type": "code",
      "source": [
        "opinioes = [\n",
        "    \"Adorei esse produto! Funciona perfeitamente.\",\n",
        "    \"pessima qualidade, quebrou na primeira semana.\",\n",
        "    \"Produto bom, mas o preço é um pouco alto.\",\n",
        "    \"Nao recomendo, experiencia terrivel com esse produto.\",\n",
        "    \"Comprei pra minha mae e ela amou!\"\n",
        "]\n"
      ],
      "metadata": {
        "id": "WJBkwRV-sfAY"
      },
      "execution_count": 3,
      "outputs": []
    },
    {
      "cell_type": "code",
      "source": [
        "palavras_positivas = [\n",
        "    \"bom\", \"otimo\", \"excelente\", \"adorei\", \"gostei\", \"recomendo\",\n",
        "    \"perfeito\", \"satisfeito\", \"amei\", \"rapido\", \"qualidade\"\n",
        "]\n",
        "\n",
        "palavras_negativas = [\n",
        "    \"ruim\", \"pessimo\", \"horrivel\", \"terrivel\", \"nao recomendo\",\n",
        "    \"problema\", \"quebrou\", \"defeito\", \"caro\", \"lento\"\n",
        "]\n",
        "\n",
        "def analisar_texto(texto):\n",
        "  texto = texto.lower()\n",
        "\n",
        "  cont_pos = sum(1 for palavra in palavras_positivas if palavra in texto)\n",
        "  cont_neg = sum(1 for palavra in palavras_negativas if palavra in texto)\n",
        "\n",
        "  #chance de erro\n",
        "  if \"nao\" in texto or \"nunca\" in texto:\n",
        "    cont_pos, cont_neg = cont_neg, cont_pos\n",
        "\n",
        "  #calcula pontuaçao\n",
        "  total = cont_pos + cont_neg + 0.01 #evita a divisao por zero\n",
        "  pontuacao = (cont_pos - cont_neg) / total\n",
        "\n",
        "  #classifica\n",
        "  if pontuacao > 0.2:\n",
        "    return pontuacao, \"positivo\"\n",
        "  elif pontuacao < -0.2:\n",
        "    return pontuacao, \"negativo\"\n",
        "  else:\n",
        "    return pontuacao, \"neutro\"\n",
        ""
      ],
      "metadata": {
        "id": "qL0nFfWft_eS"
      },
      "execution_count": 12,
      "outputs": []
    },
    {
      "cell_type": "code",
      "source": [
        "print(\"\\n === ANALISE DE SENTIMENTOS ===\\n\")\n",
        "\n",
        "resultados = []\n",
        "\n",
        "for opiniao in opinioes:\n",
        "\n",
        "  pontuacao, sentimento = analisar_texto(opiniao)\n",
        "\n",
        "\n",
        "  print(f\"Opiniao: {opiniao}\")\n",
        "  print(f\"Pontuacao: {pontuacao:.2f}\")\n",
        "  print(f\"Sentimento: {sentimento}\")\n",
        "  print(\"-\" * 50)\n",
        "\n",
        "  resultados.append({\"opiniao\": opiniao, \"pontuacao\": pontuacao, \"sentimento\": sentimento})\n",
        "\n"
      ],
      "metadata": {
        "colab": {
          "base_uri": "https://localhost:8080/"
        },
        "id": "vDb_8gv3zVL_",
        "outputId": "4f26b0e6-00d8-4ed0-8cc2-45ef1f5b50bd"
      },
      "execution_count": 16,
      "outputs": [
        {
          "output_type": "stream",
          "name": "stdout",
          "text": [
            "\n",
            " === ANALISE DE SENTIMENTOS ===\n",
            "\n",
            "Opiniao: Adorei esse produto! Funciona perfeitamente.\n",
            "Pontuacao: 0.99\n",
            "Sentimento: positivo\n",
            "--------------------------------------------------\n",
            "Opiniao: pessima qualidade, quebrou na primeira semana.\n",
            "Pontuacao: 0.00\n",
            "Sentimento: neutro\n",
            "--------------------------------------------------\n",
            "Opiniao: Produto bom, mas o preço é um pouco alto.\n",
            "Pontuacao: 0.99\n",
            "Sentimento: positivo\n",
            "--------------------------------------------------\n",
            "Opiniao: Nao recomendo, experiencia terrivel com esse produto.\n",
            "Pontuacao: 0.33\n",
            "Sentimento: positivo\n",
            "--------------------------------------------------\n",
            "Opiniao: Comprei pra minha mae e ela amou!\n",
            "Pontuacao: 0.00\n",
            "Sentimento: neutro\n",
            "--------------------------------------------------\n"
          ]
        }
      ]
    },
    {
      "cell_type": "code",
      "source": [
        "df = pd.DataFrame(resultados)\n",
        "\n",
        "plt.figure(figsize=(10, 6))\n",
        "sentimentos = df['sentimento'].value_counts()\n",
        "cores = ['green' if 'positivo' in s else 'red' if 'negativo' in s else 'blue' for s in sentimentos.index]\n",
        "sentimentos.plot(kind= 'bar', color=cores)\n",
        "plt.title('Distribuição de Sentimentos')\n",
        "plt.xlabel('Sentimentos')\n",
        "plt.ylabel('Quantidade')\n",
        "plt.show()"
      ],
      "metadata": {
        "colab": {
          "base_uri": "https://localhost:8080/",
          "height": 605
        },
        "id": "5C2xijDE97Li",
        "outputId": "257171d9-17ed-4731-909d-171080c1f1c8"
      },
      "execution_count": 18,
      "outputs": [
        {
          "output_type": "display_data",
          "data": {
            "text/plain": [
              "<Figure size 1000x600 with 1 Axes>"
            ],
            "image/png": "[encoded data removed]"
          },
          "metadata": {}
        }
      ]
    },
    {
      "cell_type": "code",
      "source": [],
      "metadata": {
        "id": "eUK5-GVL_KJP"
      },
      "execution_count": null,
      "outputs": []
    }
  ]
}